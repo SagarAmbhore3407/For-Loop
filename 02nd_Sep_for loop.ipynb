{
 "cells": [
  {
   "cell_type": "code",
   "execution_count": 1,
   "id": "c14c8385-c55b-49ed-a290-925cf37faeb8",
   "metadata": {},
   "outputs": [
    {
     "name": "stdout",
     "output_type": "stream",
     "text": [
      "1\n",
      "2\n",
      "3\n",
      "4\n",
      "5\n",
      "6\n",
      "7\n",
      "8\n",
      "9\n",
      "10\n"
     ]
    }
   ],
   "source": [
    "#Basic Level:\n",
    "#1. Write a Python program to print the numbers from 1 to 10 using a `for` loop.\n",
    "\n",
    "def main():\n",
    "    for num in range(1,11):\n",
    "        print(num)\n",
    "        \n",
    "if __name__ == '__main__':\n",
    "    main()"
   ]
  },
  {
   "cell_type": "code",
   "execution_count": 3,
   "id": "9f4d60f7-686e-4cb9-bcc5-54621f727e7f",
   "metadata": {},
   "outputs": [
    {
     "name": "stdout",
     "output_type": "stream",
     "text": [
      "list = [1, 89, 7, 8, 9, 11, 13, 15, 17, 19]\n",
      "Sum of all Numbers from list :  189\n"
     ]
    }
   ],
   "source": [
    "#Basic Level:\n",
    "#2. Create a program that calculates the sum of all numbers in a list using a `for` loop.\n",
    "\n",
    "def main():\n",
    "    lst = [1, 89, 7, 8, 9, 11, 13, 15, 17, 19]\n",
    "    total = 0\n",
    "    \n",
    "    for ele in lst:\n",
    "        total += ele\n",
    "    print(f\"list = {lst}\")    \n",
    "    print(\"Sum of all Numbers from list : \",total)    \n",
    "    \n",
    "if __name__ == \"__main__\":\n",
    "    main()"
   ]
  },
  {
   "cell_type": "code",
   "execution_count": 5,
   "id": "f33f88bf-a665-43c5-82a1-6c16a418d537",
   "metadata": {},
   "outputs": [
    {
     "name": "stdout",
     "output_type": "stream",
     "text": [
      "Reversed String = Pw-skills is best Platform to learn Data Science."
     ]
    }
   ],
   "source": [
    "#Basic Level:\n",
    "#3. Write a program to print the characters of a string in reverse order using a `for` loop.\n",
    "\n",
    "def main():\n",
    "    string = \".ecneicS ataD nrael ot mroftalP tseb si slliks-wP\"\n",
    "    print(\"Reversed String = \",end='')\n",
    "    for i in string[::-1]:\n",
    "        print(i,end='')\n",
    "        \n",
    "        \n",
    "if __name__ == \"__main__\":\n",
    "    main()        "
   ]
  },
  {
   "cell_type": "code",
   "execution_count": 8,
   "id": "2a02d85c-052b-492d-8d52-9cfdcc558934",
   "metadata": {},
   "outputs": [
    {
     "name": "stdin",
     "output_type": "stream",
     "text": [
      "Enter the Number :  6\n"
     ]
    },
    {
     "name": "stdout",
     "output_type": "stream",
     "text": [
      "Factorial of 6 is 720\n"
     ]
    }
   ],
   "source": [
    "#Basic Level:\n",
    "#4. Develop a program that finds the factorial of a given number using a `for` loop.\n",
    "\n",
    "def main():\n",
    "    \n",
    "    num = int(input(\"Enter the Number : \"))\n",
    "    fact = 1\n",
    "    for i in range(1,num+1):\n",
    "        fact *=i \n",
    "    print(f\"Factorial of {num} is {fact}\")    \n",
    "    \n",
    "if __name__ == \"__main__\":\n",
    "    main()        "
   ]
  },
  {
   "cell_type": "code",
   "execution_count": 9,
   "id": "1138b666-53ce-4fde-b97d-6170141d5d44",
   "metadata": {},
   "outputs": [
    {
     "name": "stdin",
     "output_type": "stream",
     "text": [
      "Enter The Number :  5\n"
     ]
    },
    {
     "name": "stdout",
     "output_type": "stream",
     "text": [
      "Table of 5\n",
      "\n",
      "5 X 1 = 5\n",
      "5 X 2 = 10\n",
      "5 X 3 = 15\n",
      "5 X 4 = 20\n",
      "5 X 5 = 25\n",
      "5 X 6 = 30\n",
      "5 X 7 = 35\n",
      "5 X 8 = 40\n",
      "5 X 9 = 45\n",
      "5 X 10 = 50\n"
     ]
    }
   ],
   "source": [
    "#Basic Level:\n",
    "#5. Create a program to print the multiplication table of a given number using a `for` loop.\n",
    "\n",
    "def main():\n",
    "    num = int(input(\"Enter The Number : \"))\n",
    "    print(f\"Table of {num}\\n\")\n",
    "    for i in range(1,11):\n",
    "        print(f\"{num} X {i} = {num*i}\")\n",
    "\n",
    "if __name__ == \"__main__\":\n",
    "    main()         "
   ]
  },
  {
   "cell_type": "code",
   "execution_count": 13,
   "id": "cea7ab3f-5046-4744-880e-9c941c12782b",
   "metadata": {},
   "outputs": [
    {
     "name": "stdout",
     "output_type": "stream",
     "text": [
      "List =  [1, 4, 2, 67, 98, 3, 56, 2, 90, 45, 7, 11, 17, 12, 3, 7, 11]\n",
      "There are 7 even numbers & 10 odd Numbers..\n"
     ]
    }
   ],
   "source": [
    "#Basic Level:\n",
    "#6. Write a program that counts the number of even and odd numbers in a list using a `for` loop.\n",
    "\n",
    "def main():\n",
    "    \n",
    "    lst = [1,4,2,67,98,3,56,2,90,45,7,11,17,12,3,7,11]\n",
    "    even = 0\n",
    "    odd = 0\n",
    "    for n in lst:\n",
    "        if n%2==0:\n",
    "            even += 1\n",
    "        else:\n",
    "            odd += 1\n",
    "            \n",
    "    print(f\"List = \",lst)\n",
    "    print(f\"There are {even} even numbers & {odd} odd Numbers..\")\n",
    "    \n",
    "if __name__ == \"__main__\":\n",
    "    main()    "
   ]
  },
  {
   "cell_type": "code",
   "execution_count": 14,
   "id": "40800bd3-76c9-477e-8a81-4a6ba90d4561",
   "metadata": {},
   "outputs": [
    {
     "name": "stdout",
     "output_type": "stream",
     "text": [
      "Square of 1 = 1\n",
      "Square of 2 = 4\n",
      "Square of 3 = 9\n",
      "Square of 4 = 16\n",
      "Square of 5 = 25\n"
     ]
    }
   ],
   "source": [
    "#Basic Level:\n",
    "#7. Develop a program that prints the squares of numbers from 1 to 5 using a `for` loop.\n",
    "\n",
    "def main():\n",
    "    for i in range(1,6):\n",
    "        print(f\"Square of {i} = {i**2}\")\n",
    "        \n",
    "if __name__ == \"__main__\":\n",
    "    main()        "
   ]
  },
  {
   "cell_type": "code",
   "execution_count": 15,
   "id": "5938a93a-6e5d-406b-abf6-b05a92dfa4c9",
   "metadata": {},
   "outputs": [
    {
     "name": "stdout",
     "output_type": "stream",
     "text": [
      "string =  Pw-skills is best Platform to learn Data Science\n",
      "Length of string = 48\n"
     ]
    }
   ],
   "source": [
    "#Basic Level:\n",
    "#8. Create a program to find the length of a string without using the `len()` function.\n",
    "\n",
    "def main():\n",
    "    string = \"Pw-skills is best Platform to learn Data Science\"\n",
    "    length = 0\n",
    "    for i in string:\n",
    "        length += 1\n",
    "    print(\"string = \",string)   \n",
    "    print(f\"Length of string = {length}\")    \n",
    "    \n",
    "if __name__ == \"__main__\":\n",
    "    main()      "
   ]
  },
  {
   "cell_type": "code",
   "execution_count": 27,
   "id": "a30d1df2-dbfa-479b-94e1-a6effcc0883f",
   "metadata": {},
   "outputs": [
    {
     "name": "stdout",
     "output_type": "stream",
     "text": [
      "list =  [1, 4, 2, 67, 98, 3, 56, 2, 90, 45, 7]\n",
      "Average of list = 34.09090909090909\n"
     ]
    }
   ],
   "source": [
    "#Basic Level:\n",
    "#9. Write a program that calculates the average of a list of numbers using a `for` loop.\n",
    "\n",
    "def main():\n",
    "    lst = [1, 4, 2, 67, 98, 3, 56, 2, 90, 45, 7]\n",
    "    total = 0\n",
    "    for i in lst:\n",
    "        total += i\n",
    "        \n",
    "    average = total/len(lst)\n",
    "    print(\"list = \",lst)  \n",
    "    print(f\"Average of list = {average}\")\n",
    "    \n",
    "if __name__ == \"__main__\":\n",
    "    main()      "
   ]
  },
  {
   "cell_type": "code",
   "execution_count": 37,
   "id": "9bc628ae-63b2-4bd4-bc54-9d5be4fa2626",
   "metadata": {},
   "outputs": [
    {
     "name": "stdin",
     "output_type": "stream",
     "text": [
      "Enter The Number :  5\n"
     ]
    },
    {
     "name": "stdout",
     "output_type": "stream",
     "text": [
      "0\n",
      "1\n",
      "1\n",
      "2\n",
      "3\n",
      "5\n"
     ]
    }
   ],
   "source": [
    "#Basic Level:\n",
    "#10. Develop a program that prints the first `n` Fibonacci numbers using a `for` loop.\n",
    "\n",
    "def main():\n",
    "    num = int(input(\"Enter The Number : \"))\n",
    "    \n",
    "    fib1 = 0\n",
    "    fib2 = 1\n",
    "    for i in range(0,num+1):\n",
    "        print(fib1)\n",
    "        fib1,fib2 = fib2,fib1+fib2\n",
    "            \n",
    "if __name__ == \"__main__\":\n",
    "    main()      "
   ]
  },
  {
   "cell_type": "code",
   "execution_count": 4,
   "id": "ed4feaaa-390c-4973-92aa-cad1069351b3",
   "metadata": {},
   "outputs": [
    {
     "name": "stdout",
     "output_type": "stream",
     "text": [
      "List : [1, 4, 2, 67, 7, 98, 3, 56, 2, 90, 98, 3, 45, 7]\n",
      "The List contains some duplicates :  [2, 7, 3, 98]\n"
     ]
    }
   ],
   "source": [
    "#Intermediate Level:\n",
    "#11.# Write a program to check if a given list contains any duplicates using a `for` loop.\n",
    "\n",
    "def main():\n",
    "    original_lst = [1, 4, 2, 67,7, 98, 3, 56, 2, 90 ,98, 3,45, 7]\n",
    "    copylst = original_lst.copy()\n",
    "    element = []\n",
    "    for i in copylst:\n",
    "        copylst.remove(i)\n",
    "        if i in copylst:\n",
    "            element.append(i)\n",
    "                    \n",
    "            \n",
    "    print(f\"List : {original_lst}\")\n",
    "    if element:\n",
    "        print(\"The List contains some duplicates : \",element)\n",
    "    else:\n",
    "        print(\"The List doesnt contains any duplicates : \",element)\n",
    "            \n",
    "if __name__ == \"__main__\":\n",
    "    main() \n"
   ]
  },
  {
   "cell_type": "code",
   "execution_count": 14,
   "id": "ba4b58b8-0ab8-46d6-b7a3-42839b02908a",
   "metadata": {},
   "outputs": [
    {
     "name": "stdin",
     "output_type": "stream",
     "text": [
      "Enter the range :  20\n"
     ]
    },
    {
     "name": "stdout",
     "output_type": "stream",
     "text": [
      "Prime Numbers in range 20 :\n",
      "2, 3, 5, 7, 9, 11, 13, 15, 17, 19, "
     ]
    }
   ],
   "source": [
    "#Intermediate Level:\n",
    "#12. Create a program that prints the prime numbers in a given range using a `for` loop.\n",
    "\n",
    "def main():\n",
    "    \n",
    "    range_num = int(input(\"Enter the range : \"))\n",
    "    print(f\"Prime Numbers in range {range_num} :\")\n",
    "    for i in range(2,range_num):\n",
    "        if i == 2 or i%2!=0:\n",
    "            print(i,end=\", \")\n",
    "\n",
    "if __name__ == \"__main__\":\n",
    "    main() "
   ]
  },
  {
   "cell_type": "code",
   "execution_count": 16,
   "id": "c9bff992-2cdb-4189-a8ff-3546b2a56c07",
   "metadata": {},
   "outputs": [
    {
     "name": "stdout",
     "output_type": "stream",
     "text": [
      "String : Pw-skills is best Platform to learn Data Science\n",
      "There are 13 vowels in string\n"
     ]
    }
   ],
   "source": [
    "#Intermediate Level:\n",
    "#13. Develop a program that counts the number of vowels in a string using a `for` loop.\n",
    "\n",
    "def main():\n",
    "    string = \"Pw-skills is best Platform to learn Data Science\" \n",
    "    vowels = \"aAeEiIoOuU\"\n",
    "    count = 0\n",
    "    \n",
    "    for char in string:\n",
    "        if char in vowels:\n",
    "            count+=1\n",
    "    print(f\"String : {string}\")        \n",
    "    print(f\"There are {count} vowels in string\")    \n",
    "    \n",
    "if __name__ == \"__main__\":\n",
    "    main() \n",
    "    "
   ]
  },
  {
   "cell_type": "code",
   "execution_count": 7,
   "id": "23dd2ed1-d89a-4fa2-9361-9ec19758ef28",
   "metadata": {},
   "outputs": [
    {
     "name": "stdout",
     "output_type": "stream",
     "text": [
      "List = [[7, 4, 56, 3], [3, 78, 9, 10]]\n",
      "Maximum element = 78\n"
     ]
    }
   ],
   "source": [
    "#Intermediate Level:\n",
    "#14. Write a program to find the maximum element in a 2D list using a nested `for` loop.\n",
    "\n",
    "def main():\n",
    "    \n",
    "    lst = [[7,4,56,3],\n",
    "          [3,78,9,10]]\n",
    "    maxcount = 0\n",
    "    for i in lst:\n",
    "        if isinstance(i,list):\n",
    "            for j in i:\n",
    "                if j > maxcount:\n",
    "                    maxcount = j\n",
    "        else:\n",
    "            if i > maxcount:\n",
    "                    maxcount = i\n",
    "       \n",
    "    print(f\"List = {lst}\\nMaximum element = {maxcount}\")               \n",
    "    \n",
    "    \n",
    "    \n",
    "if __name__ == \"__main__\":\n",
    "    main()     "
   ]
  },
  {
   "cell_type": "code",
   "execution_count": 9,
   "id": "6dd1feb1-a2c2-4c0e-abac-06e88dc6f40a",
   "metadata": {},
   "outputs": [
    {
     "name": "stdout",
     "output_type": "stream",
     "text": [
      "List : [1, 7, 2, 67, 7, 98, 3, 7, 2, 7, 98, 3, 45, 7]\n",
      "List after removing 7 : [1, 2, 67, 98, 3, 2, 98, 3, 45]\n"
     ]
    }
   ],
   "source": [
    "#Intermediate Level:\n",
    "#15. Create a program that removes all occurrences of a specific element from a list using a `for` loop.\n",
    "\n",
    "def main():\n",
    "    List = [1, 7, 2, 67, 7, 98, 3, 7, 2, 7, 98, 3, 45, 7]\n",
    "    print(f\"List : {List}\")\n",
    "    remove_element = 7\n",
    "    \n",
    "    for i in List:\n",
    "        if i == remove_element:\n",
    "            List.remove(i)\n",
    "    print(f\"List after removing {remove_element} : {List}\")\n",
    "    \n",
    "if __name__ == \"__main__\":\n",
    "    main()      "
   ]
  },
  {
   "cell_type": "code",
   "execution_count": 12,
   "id": "6a463355-500b-4d97-9095-7bfef468ae80",
   "metadata": {},
   "outputs": [
    {
     "name": "stdout",
     "output_type": "stream",
     "text": [
      "Tables from 1 to 5\n",
      "======================\n",
      "\n",
      "Table of 1\n",
      "1 X 1 = 1\n",
      "1 X 2 = 2\n",
      "1 X 3 = 3\n",
      "1 X 4 = 4\n",
      "1 X 5 = 5\n",
      "1 X 6 = 6\n",
      "1 X 7 = 7\n",
      "1 X 8 = 8\n",
      "1 X 9 = 9\n",
      "1 X 10 = 10\n",
      "\n",
      "Table of 2\n",
      "2 X 1 = 2\n",
      "2 X 2 = 4\n",
      "2 X 3 = 6\n",
      "2 X 4 = 8\n",
      "2 X 5 = 10\n",
      "2 X 6 = 12\n",
      "2 X 7 = 14\n",
      "2 X 8 = 16\n",
      "2 X 9 = 18\n",
      "2 X 10 = 20\n",
      "\n",
      "Table of 3\n",
      "3 X 1 = 3\n",
      "3 X 2 = 6\n",
      "3 X 3 = 9\n",
      "3 X 4 = 12\n",
      "3 X 5 = 15\n",
      "3 X 6 = 18\n",
      "3 X 7 = 21\n",
      "3 X 8 = 24\n",
      "3 X 9 = 27\n",
      "3 X 10 = 30\n",
      "\n",
      "Table of 4\n",
      "4 X 1 = 4\n",
      "4 X 2 = 8\n",
      "4 X 3 = 12\n",
      "4 X 4 = 16\n",
      "4 X 5 = 20\n",
      "4 X 6 = 24\n",
      "4 X 7 = 28\n",
      "4 X 8 = 32\n",
      "4 X 9 = 36\n",
      "4 X 10 = 40\n",
      "\n",
      "Table of 5\n",
      "5 X 1 = 5\n",
      "5 X 2 = 10\n",
      "5 X 3 = 15\n",
      "5 X 4 = 20\n",
      "5 X 5 = 25\n",
      "5 X 6 = 30\n",
      "5 X 7 = 35\n",
      "5 X 8 = 40\n",
      "5 X 9 = 45\n",
      "5 X 10 = 50\n"
     ]
    }
   ],
   "source": [
    "#Intermediate Level:\n",
    "#16. Develop a program that generates a multiplication table for numbers from 1 to 5 using a nested `for` loop.\n",
    "\n",
    "def main():\n",
    "    \n",
    "    print(\"Tables from 1 to 5\\n======================\")\n",
    "    for num in range(1,6):\n",
    "        print(f\"\\nTable of {num}\")\n",
    "        for multiplicator in range(1,11):\n",
    "            print(f\"{num} X {multiplicator} = {num*multiplicator}\")\n",
    "\n",
    "            \n",
    "if __name__ == \"__main__\":\n",
    "    main()              "
   ]
  },
  {
   "cell_type": "code",
   "execution_count": 24,
   "id": "636b9c3e-2ad1-48cd-a84d-07f5c8177842",
   "metadata": {},
   "outputs": [
    {
     "name": "stdout",
     "output_type": "stream",
     "text": [
      "Fahrenheit List = [1, 2, 67, 98, 3, 2, 98, 3, 45]\n",
      "Converted to Celcius list : [-17.22, -16.67, 19.44, 36.67, -16.11, -16.67, 36.67, -16.11, 7.22]\n"
     ]
    }
   ],
   "source": [
    "#Intermediate Level:\n",
    "#17. Write a program that converts a list of Fahrenheit temperatures to Celsius using a `for` loop.\n",
    "\n",
    "def main():\n",
    "    Fahrenheit = [1, 2, 67, 98, 3, 2, 98, 3, 45]\n",
    "    Celsius = []\n",
    "    \n",
    "    for num in Fahrenheit:\n",
    "        Celsius.append(float(\"{:.2f}\".format((num - 32) * 5/9)))\n",
    "            \n",
    "    print(f\"Fahrenheit List = {Fahrenheit}\\nConverted to Celcius list : {Celsius}\")  \n",
    "          \n",
    "              \n",
    "if __name__ == \"__main__\":\n",
    "    main() \n",
    "          "
   ]
  },
  {
   "cell_type": "code",
   "execution_count": 27,
   "id": "2176b181-1daf-4484-a302-0849ff312e70",
   "metadata": {},
   "outputs": [
    {
     "name": "stdout",
     "output_type": "stream",
     "text": [
      "Lst1 [1, 7, 2, 67, 7, 98, 3, 7, 2, 7, 98, 3, 45, 7]\n",
      "Lst2 [1, 2, 67, 98, 3, 2, 98, 3, 45]\n",
      "Common Elements :\n",
      "1 2 67 98 3 2 98 3 45 "
     ]
    }
   ],
   "source": [
    "#Intermediate Level:\n",
    "#18. Create a program to print the common elements from two lists using a `for` loop.\n",
    "\n",
    "def main():\n",
    "    lst1 = [1, 7, 2, 67, 7, 98, 3, 7, 2, 7, 98, 3, 45, 7]\n",
    "    lst2 = [1, 2, 67, 98, 3, 2, 98, 3, 45]\n",
    "    \n",
    "    print(f\"Lst1 {lst1}\\nLst2 {lst2}\\nCommon Elements :\")\n",
    "    for num in lst2:\n",
    "        if num in lst1:\n",
    "            print(f\"{num} \",end=\"\")\n",
    "            \n",
    "if __name__ == \"__main__\":\n",
    "    main()             \n",
    "    "
   ]
  },
  {
   "cell_type": "code",
   "execution_count": 28,
   "id": "d5bc2f02-0a33-40a5-89c2-4cfa8652d4db",
   "metadata": {},
   "outputs": [
    {
     "name": "stdout",
     "output_type": "stream",
     "text": [
      "*\n",
      "**\n",
      "***\n",
      "****\n",
      "*****\n",
      "******\n",
      "*******\n"
     ]
    }
   ],
   "source": [
    "#Intermediate Level:\n",
    "#19. Develop a program that prints the pattern of right-angled triangles using a `for` loop. Use ‘*’ to draw the  pattern.\n",
    "\n",
    "def main():\n",
    "    \n",
    "    for i in range(1,8):\n",
    "        for j in range(i):\n",
    "            print(\"*\",end=\"\")\n",
    "    \n",
    "        print()\n",
    "        \n",
    "if __name__ == \"__main__\":\n",
    "    main()          "
   ]
  },
  {
   "cell_type": "code",
   "execution_count": 31,
   "id": "14af3a9e-e4ff-418c-9604-f5647736ef80",
   "metadata": {},
   "outputs": [
    {
     "name": "stdin",
     "output_type": "stream",
     "text": [
      "Enter the first number:  78\n",
      "Enter the second number:  87\n"
     ]
    },
    {
     "name": "stdout",
     "output_type": "stream",
     "text": [
      "The GCD of 78 and 87 is 3\n"
     ]
    }
   ],
   "source": [
    "#Intermediate Level:\n",
    "#20. Write a program to find the greatest common divisor (GCD) of two numbers using a `for` loop.\n",
    "\n",
    "def find_gcd(num1, num2):\n",
    "    if num1 < num2:\n",
    "        smaller = num1\n",
    "    else:\n",
    "        smaller = num2\n",
    "    \n",
    "    for i in range(1, smaller + 1):\n",
    "        if (num1 % i == 0) and (num2 % i == 0):\n",
    "            gcd = i\n",
    "            \n",
    "    return gcd\n",
    "\n",
    "def main():\n",
    "    num1 = int(input(\"Enter the first number: \"))\n",
    "    num2 = int(input(\"Enter the second number: \"))\n",
    "    \n",
    "    result = find_gcd(num1, num2)\n",
    "    \n",
    "    print(f\"The GCD of {num1} and {num2} is {result}\")\n",
    "\n",
    "if __name__ == \"__main__\":\n",
    "    main()\n",
    "\n"
   ]
  },
  {
   "cell_type": "code",
   "execution_count": 2,
   "id": "6764d301-03b7-4a2a-a384-f2a0f366382c",
   "metadata": {},
   "outputs": [
    {
     "name": "stdout",
     "output_type": "stream",
     "text": [
      "List : [186, 223, 607, 988, 2387, 287]\n",
      "Summation of each numbers digit.\n",
      "\n",
      "Sum of 186 digits = 15\n",
      "Sum of 223 digits = 7\n",
      "Sum of 607 digits = 13\n",
      "Sum of 988 digits = 25\n",
      "Sum of 2387 digits = 20\n",
      "Sum of 287 digits = 17\n"
     ]
    }
   ],
   "source": [
    "#Advanced Level:\n",
    "#21. Create a program that calculates the sum of the digits of numbers in a list using a list comprehension.\n",
    "\n",
    "def sum_digit(number):\n",
    "    return sum(int(digit) for digit in str(number))\n",
    "\n",
    "def main():\n",
    "    lst1 = [186, 223, 607, 988,2387, 287]\n",
    "    calculated = [sum_digit(num)  for num in lst1]\n",
    "    \n",
    "    print(f\"List : {lst1}\\nSummation of each numbers digit.\\n\")\n",
    "    for i in range(len(lst1)):\n",
    "        print(f\"Sum of {lst1[i]} digits = {calculated[i]}\")\n",
    "\n",
    "if __name__ == \"__main__\":\n",
    "    main()        \n"
   ]
  },
  {
   "cell_type": "code",
   "execution_count": 41,
   "id": "9779f24a-27ca-4964-b715-59fe456bc5ea",
   "metadata": {},
   "outputs": [
    {
     "name": "stdin",
     "output_type": "stream",
     "text": [
      "Enter the Number to Find the prime Factors :  120\n"
     ]
    },
    {
     "name": "stdout",
     "output_type": "stream",
     "text": [
      "Prime Factors of 120 = [1, 2, 3, 5]\n"
     ]
    }
   ],
   "source": [
    "#Advanced Level:\n",
    "#22. Write a program to find the prime factors of a given number using a `for` loop and list comprehension.\n",
    "\n",
    "def is_prime(num):\n",
    "    if num <= 1:\n",
    "        return True\n",
    "    for i in range(2,num):\n",
    "        if num%i==0:\n",
    "            return False\n",
    "    else:\n",
    "        return True\n",
    "    \n",
    "    \n",
    "def main():\n",
    "    \n",
    "    num = int(input(\"Enter the Number to Find the prime Factors : \"))\n",
    "    prime_fact_lst = [i for i in range(1,num+1) if num%i==0 and is_prime(i)]\n",
    "    \n",
    "    print(f\"Prime Factors of {num} = {prime_fact_lst}\")\n",
    "    \n",
    "    \n",
    "if __name__ == \"__main__\":\n",
    "    main() \n",
    "    "
   ]
  },
  {
   "cell_type": "code",
   "execution_count": 44,
   "id": "f2c120a2-8ed5-4739-9efd-daf232160620",
   "metadata": {},
   "outputs": [
    {
     "name": "stdout",
     "output_type": "stream",
     "text": [
      "List = [1, 7, 2, 67, 7, 98, 3, 7, 2, 7, 98, 3, 45, 7]\n",
      "Extracted Unique element List : [1, 67, 45]\n"
     ]
    }
   ],
   "source": [
    "#Advanced Level:\n",
    "#23. Develop a program that extracts unique elements from a list and stores them in a new list using a list \n",
    "#    comprehension.\n",
    "\n",
    "def main():\n",
    "    lst = [1, 7, 2, 67, 7, 98, 3, 7, 2, 7, 98, 3, 45, 7]\n",
    "    uniquelst = [num for num in lst if lst.count(num)==1]\n",
    "    print(f\"List = {lst}\\nExtracted Unique element List : {uniquelst}\")\n",
    "    \n",
    "if __name__ == \"__main__\":\n",
    "    main() "
   ]
  },
  {
   "cell_type": "code",
   "execution_count": 46,
   "id": "7d177674-3caa-4fc4-8211-694ace120916",
   "metadata": {},
   "outputs": [
    {
     "name": "stdin",
     "output_type": "stream",
     "text": [
      "Enter a specific num : 150\n"
     ]
    },
    {
     "name": "stdout",
     "output_type": "stream",
     "text": [
      "[1, 2, 3, 4, 5, 6, 7, 8, 9, 11, 22, 33, 44, 55, 66, 77, 88, 99, 101, 111, 121, 131, 141]\n"
     ]
    }
   ],
   "source": [
    "#Advanced Level:\n",
    "#24. Create a program that generates a list of all palindromic numbers up to a specified limit using a list \n",
    "#    comprehension.\n",
    "\n",
    "def main():\n",
    "    limit = int(input(\"Enter a specific num :\"))\n",
    "    lst = [ int(num) for num in range(1,limit+1) if str(num) == str(num)[::-1]]\n",
    "    print(lst)\n",
    "    \n",
    "    \n",
    "if __name__ == \"__main__\":\n",
    "    main() \n",
    "    \n",
    "    \n",
    "    \n",
    "    "
   ]
  },
  {
   "cell_type": "code",
   "execution_count": 14,
   "id": "9f595736-f640-45bb-b978-677f00bc7960",
   "metadata": {},
   "outputs": [
    {
     "name": "stdout",
     "output_type": "stream",
     "text": [
      "[1, 2, 3, 4, 5, 6, 7, 8]\n"
     ]
    }
   ],
   "source": [
    "#Advanced Level:\n",
    "#25. Write a program to flatten a nested list using list comprehension.\n",
    "\n",
    "def main():\n",
    "    lst = [[1, 2, 3], [4, 5], [6, 7, 8]]\n",
    "    flatten = [j for i in lst for j in i ]\n",
    "    print(flatten)\n",
    "    \n",
    "if __name__ == \"__main__\":\n",
    "    main()   "
   ]
  },
  {
   "cell_type": "code",
   "execution_count": 30,
   "id": "e624c78b-b9b3-4584-82f8-8e4791ea5a83",
   "metadata": {},
   "outputs": [
    {
     "name": "stdout",
     "output_type": "stream",
     "text": [
      "Sum of Odd Nums:  905 \n",
      "Sum of Even Nums:  240\n"
     ]
    }
   ],
   "source": [
    "#Advanced Level:\n",
    "#26. Develop a program that computes the sum of even and odd numbers in a list separately using list \n",
    "#    comprehension\n",
    "\n",
    "def main():\n",
    "    lst = [1, 2, 3, 4, 5, 6, 7, 8, 9, 11, 22, 33, 44, 55, 66, 77, 88, 99, 101, 111, 121, 131, 141]\n",
    "    even = sum(num for num in lst if num%2==0)\n",
    "    odd = sum(num for num in lst if num%2!=0)\n",
    "    \n",
    "    print(\"Sum of Odd Nums: \",odd,\"\\nSum of Even Nums: \",even)\n",
    "    \n",
    "if __name__ == \"__main__\":\n",
    "    main()       "
   ]
  },
  {
   "cell_type": "code",
   "execution_count": 31,
   "id": "794587f2-f0ef-4c49-986b-4bc6d9645669",
   "metadata": {},
   "outputs": [
    {
     "name": "stdout",
     "output_type": "stream",
     "text": [
      "List of Sqrs of Odd Nums: [1, 9, 25, 49, 81]\n"
     ]
    }
   ],
   "source": [
    "#Advanced Level:\n",
    "#27. Create a program that generates a list of squares of odd numbers between 1 and 10 using list \n",
    "#    comprehension.\n",
    "\n",
    "def main():\n",
    "    \n",
    "    odd_sqrlst = [num**2 for num in range(1,11) if num%2!=0]\n",
    "    print(f\"List of Sqrs of Odd Nums: {odd_sqrlst}\")\n",
    "    \n",
    "    \n",
    "if __name__ == \"__main__\":\n",
    "    main() \n",
    "    "
   ]
  },
  {
   "cell_type": "code",
   "execution_count": 34,
   "id": "67dc1042-33cb-40e8-9014-05035b2cb987",
   "metadata": {},
   "outputs": [
    {
     "name": "stdout",
     "output_type": "stream",
     "text": [
      "{1: 'one', 2: 'two', 3: 'three', 4: 'four', 5: 'five'}\n"
     ]
    }
   ],
   "source": [
    "#Advanced Level:\n",
    "#28. Write a program that combines two lists into a dictionary using list comprehension.\n",
    "\n",
    "def main():\n",
    "    \n",
    "    lst1 = [1,2,3,4,5]\n",
    "    lst2 = [\"one\",\"two\",\"three\",\"four\",\"five\"]\n",
    "    dic = {lst1[index]:lst2[index] for index in range(len(lst2))}\n",
    "    print(dic)\n",
    "    \n",
    "if __name__ == \"__main__\":\n",
    "    main()     "
   ]
  },
  {
   "cell_type": "code",
   "execution_count": 36,
   "id": "a5968b67-c85d-4cde-b8ad-780c21d54940",
   "metadata": {},
   "outputs": [
    {
     "name": "stdout",
     "output_type": "stream",
     "text": [
      "String : Pw-skills is best Platform to learn Data Science\n",
      "Vowels form string : ['i', 'i', 'e', 'a', 'o', 'o', 'e', 'a', 'a', 'a', 'i', 'e', 'e']\n"
     ]
    }
   ],
   "source": [
    "#Advanced Level:\n",
    "#29. Develop a program that extracts the vowels from a string and stores them in a list using list comprehension\n",
    "\n",
    "def main():\n",
    "    string = \"Pw-skills is best Platform to learn Data Science\" \n",
    "    vowels = \"aAeEiIoOuU\"\n",
    "    vowel_lst = [char for char in string if char in vowels]\n",
    "    \n",
    "    print(f\"String : {string}\\nVowels form string : {vowel_lst}\")\n",
    "    \n",
    "if __name__ == \"__main__\":\n",
    "    main()         "
   ]
  },
  {
   "cell_type": "code",
   "execution_count": 42,
   "id": "5f47bb4c-dc24-4e19-a11c-442e782ebb2d",
   "metadata": {},
   "outputs": [
    {
     "name": "stdout",
     "output_type": "stream",
     "text": [
      "List : ['one', '1', 'two', '2', 'three', '3', 'four', '4', 'five', '5']\n",
      "After Removing numeric : ['one', 'two', 'three', 'four', 'five']\n"
     ]
    }
   ],
   "source": [
    "#Advanced Level:\n",
    "#30. Create a program that removes all non-numeric characters from a list of strings using list comprehension.\n",
    "\n",
    "def main():\n",
    "    lst = [\"one\",'1',\"two\",'2',\"three\",'3',\"four\",'4',\"five\",'5']\n",
    "    print(f\"List : {lst}\")\n",
    "    [lst.remove(ele) for ele in lst if ele.isnumeric()]\n",
    "    print(f\"After Removing numeric : {lst}\")\n",
    "\n",
    "if __name__ == \"__main__\":\n",
    "    main()\n"
   ]
  },
  {
   "cell_type": "code",
   "execution_count": 4,
   "id": "83d2063d-3094-413a-aa3d-3685a1baba27",
   "metadata": {},
   "outputs": [
    {
     "name": "stdin",
     "output_type": "stream",
     "text": [
      "Enter the maximum number to generate prime numbers up to:  20\n"
     ]
    },
    {
     "name": "stdout",
     "output_type": "stream",
     "text": [
      "Prime numbers up to 20 are: [2, 3, 5, 7, 11, 13, 17, 19]\n"
     ]
    }
   ],
   "source": [
    "#Challenge Level:\n",
    "#31. Write a program to generate a list of prime numbers using the Sieve of Eratosthenes algorithm and list \n",
    "#    comprehension.\n",
    "\n",
    "def sieve_of_eratosthenes(n):\n",
    "    sieve = [True] * (n + 1)\n",
    "    sieve[0] = sieve[1] = False\n",
    "\n",
    "    for current in range(2, int(n**0.5) + 1):\n",
    "        if sieve[current]:\n",
    "            sieve[current**2::current] = [False] * len(sieve[current**2::current])\n",
    "\n",
    "    return [num for num, is_prime in enumerate(sieve) if is_prime]\n",
    "\n",
    "def main():\n",
    "   \n",
    "    n = int(input(\"Enter the maximum number to generate prime numbers up to: \"))\n",
    "\n",
    "    prime_list = sieve_of_eratosthenes(n)\n",
    "    print(\"Prime numbers up to\", n, \"are:\", prime_list)\n",
    "    \n",
    "    \n",
    "if __name__ == \"__main__\":\n",
    "    main()"
   ]
  },
  {
   "cell_type": "code",
   "execution_count": 8,
   "id": "a1d54c38-9bc9-4400-812f-7cffe7349119",
   "metadata": {},
   "outputs": [
    {
     "name": "stdin",
     "output_type": "stream",
     "text": [
      "Enter the limit for Pythagorean triplets:  10\n"
     ]
    },
    {
     "name": "stdout",
     "output_type": "stream",
     "text": [
      "Pythagorean triplets up to 10 are:\n",
      "(3, 4, 5)\n"
     ]
    }
   ],
   "source": [
    "#Challenge Level:\n",
    "#32. Create a program that generates a list of all Pythagorean triplets up to a specified limit using list \n",
    "#    comprehension.\n",
    "\n",
    "def main():\n",
    "    limit = int(input(\"Enter the limit for Pythagorean triplets: \"))\n",
    "    triplets = [(a, b, c) for a in range(1, limit) for b in range(a, limit) for c in range(b, limit) if a**2 + b**2 == c**2]\n",
    "\n",
    "    print(\"Pythagorean triplets up to\", limit, \"are:\")\n",
    "    for triplet in triplets:\n",
    "        print(triplet)\n",
    "\n",
    "    \n",
    "if __name__ == \"__main__\":\n",
    "    main()    "
   ]
  },
  {
   "cell_type": "code",
   "execution_count": 7,
   "id": "7e31dba5-3ffe-4dfb-b257-00c874bfaedd",
   "metadata": {},
   "outputs": [
    {
     "name": "stdout",
     "output_type": "stream",
     "text": [
      "[(1, 'a'), (1, 'b'), (1, 'c'), (2, 'a'), (2, 'b'), (2, 'c'), (3, 'a'), (3, 'b'), (3, 'c')]\n"
     ]
    }
   ],
   "source": [
    "#Challenge Level:\n",
    "#33. Develop a program that generates a list of all possible combinations of two lists using list comprehension.\n",
    "\n",
    "def main():\n",
    "    \n",
    "    list1 = [1, 2, 3]\n",
    "    list2 = ['a', 'b', 'c']\n",
    "\n",
    "    combinations = [(x, y) for x in list1 for y in list2]\n",
    "\n",
    "    print(combinations)\n",
    "\n",
    "if __name__ == \"__main__\":\n",
    "    main()\n",
    "\n"
   ]
  },
  {
   "cell_type": "code",
   "execution_count": 5,
   "id": "ba935068-c1f4-40b3-b75f-8994330a83bc",
   "metadata": {},
   "outputs": [
    {
     "name": "stdout",
     "output_type": "stream",
     "text": [
      "Mean: 4.0\n",
      "Median: 4.0\n",
      "Mode: [2]\n"
     ]
    }
   ],
   "source": [
    "#Challenge Level:\n",
    "#34. Write a program that calculates the mean, median, and mode of a list of numbers using list \n",
    "#    comprehension\n",
    "\n",
    "from collections import Counter\n",
    "\n",
    "def main():\n",
    "    numbers = [2, 3, 2, 5, 6, 5, 2, 7]\n",
    "\n",
    "    mean = sum(numbers) / len(numbers)\n",
    "\n",
    "    sorted_numbers = sorted(numbers)\n",
    "    n = len(sorted_numbers)\n",
    "    median = (sorted_numbers[n // 2] + sorted_numbers[n // 2 - 1]) / 2 if n % 2 == 0 else sorted_numbers[n // 2]\n",
    "\n",
    "    \n",
    "    counts = Counter(numbers)\n",
    "    max_count = max(counts.values())\n",
    "    mode = [num for num, count in counts.items() if count == max_count]\n",
    "\n",
    "    print(\"Mean:\", mean)\n",
    "    print(\"Median:\", median)\n",
    "    print(\"Mode:\", mode)\n",
    "\n",
    "if __name__ == \"__main__\":\n",
    "    main()\n"
   ]
  },
  {
   "cell_type": "code",
   "execution_count": 9,
   "id": "735faaea-2911-4659-bb09-745a61324dcf",
   "metadata": {},
   "outputs": [
    {
     "name": "stdin",
     "output_type": "stream",
     "text": [
      "Enter the number of rows for Pascal's triangle:  6\n"
     ]
    },
    {
     "name": "stdout",
     "output_type": "stream",
     "text": [
      "      1      \n",
      "     1 1     \n",
      "    1 2 1    \n",
      "   1 3 3 1   \n",
      "  1 4 6 4 1  \n",
      "1 5 10 10 5 1\n"
     ]
    }
   ],
   "source": [
    "#Challenge Level:\n",
    "#35. Create a program that generates Pascal's triangle up to a specified number of rows using list \n",
    "#    comprehension.\n",
    "\n",
    "def generate_pascals_triangle(num_rows):\n",
    "    if num_rows <= 0:\n",
    "        return []\n",
    "\n",
    "    triangle = [[1]]\n",
    "    \n",
    "    while len(triangle) < num_rows:\n",
    "        last_row = triangle[-1] #1 2 1 \n",
    "        new_row = [1] + [last_row[i] + last_row[i+1] for i in range(len(last_row) - 1)] + [1] #1+ 2+1 1+2 +1\n",
    "        triangle.append(new_row)\n",
    "    \n",
    "    return triangle\n",
    "\n",
    "def print_pascals_triangle(triangle):\n",
    "    max_width = len(' '.join(map(str, triangle[-1])))\n",
    "    \n",
    "    for row in triangle:\n",
    "        row_str = ' '.join(map(str, row))\n",
    "        print(row_str.center(max_width))\n",
    "        \n",
    "        \n",
    "def main():\n",
    "    \n",
    "    num_rows = int(input(\"Enter the number of rows for Pascal's triangle: \"))\n",
    "    pascals_triangle = generate_pascals_triangle(num_rows)\n",
    "    print_pascals_triangle(pascals_triangle)\n",
    "\n",
    "if __name__ == \"__main__\":\n",
    "    main()\n",
    "\n",
    "\n"
   ]
  },
  {
   "cell_type": "code",
   "execution_count": 2,
   "id": "be62315c-860a-4577-b840-ed46a00bbe23",
   "metadata": {},
   "outputs": [
    {
     "name": "stdout",
     "output_type": "stream",
     "text": [
      "Sum of digit of fact from 1 to 5 = 18 \n"
     ]
    }
   ],
   "source": [
    "#Challenge Level:\n",
    "#36. Develop a program that calculates the sum of the digits of a factorial of numbers from 1 to 5 using list \n",
    "#    comprehension.\n",
    "\n",
    "def factorial(n):\n",
    "    if n == 0:\n",
    "        return 1\n",
    "    else:\n",
    "        return n * factorial(n - 1)\n",
    "\n",
    "def sum_digit(number):\n",
    "    return sum(int(digit) for digit in str(number))\n",
    "\n",
    "def main():\n",
    "    \n",
    "    factsum = sum(sum_digit(factorial(number)) for number in range(1,6))\n",
    "    print(f\"Sum of digit of fact from 1 to 5 = {factsum} \")\n",
    "    \n",
    "if __name__ == \"__main__\":\n",
    "    main()     "
   ]
  },
  {
   "cell_type": "code",
   "execution_count": null,
   "id": "7b3e8d27-4d46-4d6a-afe5-d5e13d71f7f9",
   "metadata": {},
   "outputs": [
    {
     "name": "stdout",
     "output_type": "stream",
     "text": [
      "String = Write a program that finds the longest word in a sentence using list comprehension.\n",
      "longest_word =  comprehension.\n"
     ]
    }
   ],
   "source": [
    "#Challenge Level:\n",
    "#37. Write a program that finds the longest word in a sentence using list comprehension.\n",
    "\n",
    "\n",
    "\n",
    "def main():\n",
    "    string = \"Write a program that finds the longest word in a sentence using list comprehension.\"\n",
    "    words = string.split()\n",
    "    longest_word = max(words, key=lambda word: len(word))\n",
    "    print(f\"String = {string}\")\n",
    "    print(\"longest_word = \",longest_word)\n",
    "\n",
    "if __name__ == \"__main__\":\n",
    "    main()    \n",
    "    \n",
    "    "
   ]
  },
  {
   "cell_type": "code",
   "execution_count": null,
   "id": "b9145d80-ceb8-4902-bcdc-4458f7be9ba2",
   "metadata": {},
   "outputs": [],
   "source": [
    "#Challenge Level:\n",
    "#38. Create a program that filters a list of strings to include only those with more than three vowels using list \n",
    "#    comprehension.\n",
    "\n",
    "def vowelscount(string):\n",
    "    count = 0\n",
    "    vowels = \"aAeEiIoOuU\"\n",
    "    for char in string:\n",
    "        if char in vowels:\n",
    "            count+=1    \n",
    "    return count\n",
    "\n",
    "def main():\n",
    "    strlst = [\"pwskills\",\"one-zero\",\"numbers\",\"platformers-e\",\"data-science\",\"two\",\"higher\"]\n",
    "    vowels3lst = [string for string in strlst if vowelscount(string)>3 ]\n",
    "    print(f\"String : {strlst}\\nList of greater than 3 vowels strings : {vowels3lst}\")\n",
    "\n",
    "if __name__ == \"__main__\":\n",
    "    main()\n"
   ]
  },
  {
   "cell_type": "code",
   "execution_count": 9,
   "id": "2f77b98a-e9f8-432f-8caa-0bdf128c3b3e",
   "metadata": {},
   "outputs": [
    {
     "name": "stdout",
     "output_type": "stream",
     "text": [
      "Sum of all digits between the range(1 to 1000) = 13501\n"
     ]
    }
   ],
   "source": [
    "#Challenge Level:\n",
    "#39. Develop a program that calculates the sum of the digits of numbers from 1 to 1000 using list \n",
    "#    comprehension.\n",
    "\n",
    "def sumof(num):\n",
    "    return sum(int(i) for i in str(num))\n",
    "\n",
    "\n",
    "def main():\n",
    "    sumlst = [sum(sumof(i) for i in range(1,1001))]\n",
    "    print(f\"Sum of all digits between the range(1 to 1000) = {sumlst[0]}\")\n",
    "\n",
    "if __name__ == \"__main__\":\n",
    "    main()\n",
    "\n",
    "\n"
   ]
  },
  {
   "cell_type": "code",
   "execution_count": 1,
   "id": "ad697b21-761e-47b7-a565-7c026f6e8b3f",
   "metadata": {},
   "outputs": [
    {
     "name": "stdin",
     "output_type": "stream",
     "text": [
      "Enter the Limit :  200\n"
     ]
    },
    {
     "name": "stdout",
     "output_type": "stream",
     "text": [
      "Prome_Palindromic List : [1, 2, 3, 5, 7, 11, 101, 131, 151, 181, 191]\n"
     ]
    }
   ],
   "source": [
    "#Challenge Level:\n",
    "#40. Write a program that generates a list of prime palindromic numbers using list comprehension.\n",
    "\n",
    "def is_palindrome(num):\n",
    "    if str(num) == str(num)[::-1]:\n",
    "        return True\n",
    "    else:\n",
    "        return False\n",
    "\n",
    "\n",
    "def is_prime(num):\n",
    "    if num <= 1:\n",
    "        return is_palindrome(num)\n",
    "    for i in range(2,num):\n",
    "        if num%i==0:\n",
    "            return False\n",
    "    else:\n",
    "        return is_palindrome(num)\n",
    "    \n",
    "    \n",
    "def main():\n",
    "    limit = int(input(\"Enter the Limit : \"))\n",
    "    prime_palindromic = [ele for ele in range(1,limit+1) if is_prime(ele)]\n",
    "    \n",
    "    print(f\"Prome_Palindromic List : {prime_palindromic}\")\n",
    "    \n",
    "\n",
    "if __name__ == \"__main__\":\n",
    "    main()\n",
    "\n"
   ]
  },
  {
   "cell_type": "code",
   "execution_count": null,
   "id": "8f81d97c-09d1-47c3-b33e-e270cf07a286",
   "metadata": {},
   "outputs": [],
   "source": []
  },
  {
   "cell_type": "code",
   "execution_count": null,
   "id": "2feb04bb-3b77-43e2-b85f-8044875b461b",
   "metadata": {},
   "outputs": [],
   "source": []
  }
 ],
 "metadata": {
  "kernelspec": {
   "display_name": "Python 3 (ipykernel)",
   "language": "python",
   "name": "python3"
  },
  "language_info": {
   "codemirror_mode": {
    "name": "ipython",
    "version": 3
   },
   "file_extension": ".py",
   "mimetype": "text/x-python",
   "name": "python",
   "nbconvert_exporter": "python",
   "pygments_lexer": "ipython3",
   "version": "3.10.8"
  }
 },
 "nbformat": 4,
 "nbformat_minor": 5
}
